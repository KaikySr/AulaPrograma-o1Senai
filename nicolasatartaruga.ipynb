{
  "nbformat": 4,
  "nbformat_minor": 0,
  "metadata": {
    "colab": {
      "provenance": [],
      "authorship_tag": "ABX9TyPgEP4L6LqfoIl1CCO2me9L",
      "include_colab_link": true
    },
    "kernelspec": {
      "name": "python3",
      "display_name": "Python 3"
    },
    "language_info": {
      "name": "python"
    }
  },
  "cells": [
    {
      "cell_type": "markdown",
      "metadata": {
        "id": "view-in-github",
        "colab_type": "text"
      },
      "source": [
        "<a href=\"https://colab.research.google.com/github/KaikySr/AulaPrograma-o1Senai/blob/master/nicolasatartaruga.ipynb\" target=\"_parent\"><img src=\"https://colab.research.google.com/assets/colab-badge.svg\" alt=\"Open In Colab\"/></a>"
      ]
    },
    {
      "cell_type": "code",
      "execution_count": null,
      "metadata": {
        "id": "VP6qo5fNwiwM"
      },
      "outputs": [],
      "source": [
        "!pip install tensorflow\n",
        "!pip install keras"
      ]
    },
    {
      "cell_type": "code",
      "source": [
        "from keras import models\n",
        "from keras import layers\n",
        "from keras import activations\n",
        "from keras import initializers\n",
        "from keras import regularizers\n",
        "from keras import optimizers\n",
        "from keras import losses\n",
        "from keras import metrics\n",
        "from keras import callbacks\n",
        "from keras.preprocessing import image"
      ],
      "metadata": {
        "id": "K8mLJWHwwn2E"
      },
      "execution_count": null,
      "outputs": []
    },
    {
      "cell_type": "code",
      "source": [
        "model = models.Sequential()\n",
        "\n",
        "model.add(layers.Conv2D(\n",
        "    32, (5, 5),\n",
        "    input_shape = (64, 64, 3),\n",
        "    activation = 'relu'\n",
        "))\n",
        "model.add(layers.MaxPooling2D(\n",
        "    pool_size = (2, 2)\n",
        "))"
      ],
      "metadata": {
        "id": "Vn_FN2Y-xJgw"
      },
      "execution_count": null,
      "outputs": []
    },
    {
      "cell_type": "code",
      "source": [
        "model.add(layers.Conv2D(\n",
        "    16, (5, 5),\n",
        "    input_shape = (30, 30, 3),\n",
        "    activation = 'relu'\n",
        "))\n",
        "model.add(layers.MaxPooling2D(\n",
        "    pool_size = (2, 2)\n",
        "))"
      ],
      "metadata": {
        "id": "l_c1IryvzU-D"
      },
      "execution_count": null,
      "outputs": []
    },
    {
      "cell_type": "code",
      "source": [
        "model.add(layers.Conv2D(\n",
        "    16, (5, 5),\n",
        "    input_shape = (13, 13, 3),\n",
        "    activation = 'relu'\n",
        "))\n",
        "model.add(layers.MaxPooling2D(\n",
        "    pool_size = (2, 2)\n",
        "))"
      ],
      "metadata": {
        "id": "NzY0U50gzsl5"
      },
      "execution_count": null,
      "outputs": []
    },
    {
      "cell_type": "code",
      "source": [
        "model.add(layers.Flatten())\n",
        "\n",
        "model.add(layers.Dense(256,\n",
        "    kernel_regularizers = regularizers.L2(1e-4),\n",
        "    kernel_initializer = initializers.RandomNormal(stddev = 1),\n",
        "    bias_initializer = initializers.Zeros()\n",
        "))\n",
        "\n",
        "model.add(layers.Dropout(0.2))\n",
        "model.add(layers.Activation())"
      ],
      "metadata": {
        "id": "09lazt7K2nAk"
      },
      "execution_count": null,
      "outputs": []
    },
    {
      "cell_type": "code",
      "source": [
        "model.add(layers.Dense(64,\n",
        "  kernel_regularizer = regularizers.L2(1e-4),\n",
        "  kernel_initializer = initializers.RandomNormal(stddev = 1),\n",
        "  bias_initializer = initializers.Zeros()\n",
        "))\n",
        "model.add(layers.Activation(activations.relu))\n",
        "model.add(layers.BathNormalization())\n",
        "\n",
        "\n",
        "model.add(layers.Dense(64,\n",
        "  kernel_regularizer = regularizers.L2(1e-4),\n",
        "  kernel_initializer = initializers.RandomNormal(stddev = 1),\n",
        "  bias_initializer = initializers.Zeros()\n",
        "))\n",
        "model.add(layers.Activation(activations.relu))\n",
        "\n",
        "model.add(layers.Dense(2,\n",
        "  kernel_initializer = initializers.RandomNormal(stddev = 1),\n",
        "  bias_initializer = initializers.Zeros()\n",
        "))\n",
        "model.add(layers.Activation(activations.softmax))"
      ],
      "metadata": {
        "id": "nca9sICGQZRB"
      },
      "execution_count": null,
      "outputs": []
    },
    {
      "cell_type": "code",
      "source": [
        "model.compile(\n",
        "    optimizer = optimizers.Adam(),\n",
        "    loss = losses.BinaryCrossentropy(),\n",
        "    metrics=[metrics.Accuracy()]\n",
        ")"
      ],
      "metadata": {
        "id": "ANu9Dwl4Q_Oo"
      },
      "execution_count": null,
      "outputs": []
    },
    {
      "cell_type": "code",
      "source": [
        "dataGen = image.ImageDataGenerator(\n",
        "    rescale = 1.0/255,\n",
        "    shear_range = 0.2,\n",
        "    zoom_range = 0.2,\n",
        "    hotizontal_flip = True,\n",
        "    vertical_flip = False,\n",
        "    validation_split = 0.2\n",
        ")"
      ],
      "metadata": {
        "id": "69rmvrnOTfNh"
      },
      "execution_count": null,
      "outputs": []
    },
    {
      "cell_type": "code",
      "source": [
        "X_train = dataGen.flow_from_directory(\n",
        "    'caminho/para/fotos',\n",
        "    target_size = (64, 64),\n",
        "    batch_size = 32,\n",
        "    class_mode = 'categorical',\n",
        "    subset = 'training'\n",
        ")\n",
        "\n",
        "X_tests = dataGen.flow_from_directory(\n",
        "    'caminho/para/fotos',\n",
        "    target_size = (64, 64),\n",
        "    batch_size = 32,\n",
        "    class_mode = 'categorical',\n",
        "    subset = 'validation'\n",
        ")"
      ],
      "metadata": {
        "id": "vqbuHxfHVWRI"
      },
      "execution_count": null,
      "outputs": []
    },
    {
      "cell_type": "code",
      "source": [
        "model.fit(X_train,\n",
        "    steps_per_epoch = 1000,\n",
        "    epochs = 50,\n",
        "    validation_steps = 100,\n",
        "    callbacks = [\n",
        "        callbacks.EarlyStopping(patience = 4),\n",
        "        callbacks.ModelCheckpoint(\n",
        "            filepath = 'model.{epoch:02d}-{val_loss:.2f}h5'\n",
        "        )\n",
        "    ]\n",
        ")\n",
        "\n",
        "model.save('model')"
      ],
      "metadata": {
        "id": "XAZ6pvbfWFMw"
      },
      "execution_count": null,
      "outputs": []
    }
  ]
}